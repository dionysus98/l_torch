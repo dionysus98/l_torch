{
  "nbformat": 4,
  "nbformat_minor": 0,
  "metadata": {
    "colab": {
      "provenance": [],
      "gpuType": "T4",
      "authorship_tag": "ABX9TyO7Fx3woxbMV37ONRVnJm2H",
      "include_colab_link": true
    },
    "kernelspec": {
      "name": "python3",
      "display_name": "Python 3"
    },
    "language_info": {
      "name": "python"
    },
    "accelerator": "GPU"
  },
  "cells": [
    {
      "cell_type": "markdown",
      "metadata": {
        "id": "view-in-github",
        "colab_type": "text"
      },
      "source": [
        "<a href=\"https://colab.research.google.com/github/dionysus98/l_torch/blob/main/00_torch_fundm.ipynb\" target=\"_parent\"><img src=\"https://colab.research.google.com/assets/colab-badge.svg\" alt=\"Open In Colab\"/></a>"
      ]
    },
    {
      "cell_type": "markdown",
      "source": [
        "## Imports"
      ],
      "metadata": {
        "id": "iTuog0wb1SK_"
      }
    },
    {
      "cell_type": "code",
      "source": [
        "## 00. Pytorch Fundamentals\n",
        "import torch\n",
        "import pandas as pd\n",
        "import numpy as np\n",
        "import matplotlib as plt\n",
        "print(torch.__version__)"
      ],
      "metadata": {
        "colab": {
          "base_uri": "https://localhost:8080/"
        },
        "id": "5koenelfEsTf",
        "outputId": "d611c83f-733d-48fe-e909-351b85492c3c"
      },
      "execution_count": null,
      "outputs": [
        {
          "output_type": "stream",
          "name": "stdout",
          "text": [
            "2.3.0+cu121\n"
          ]
        }
      ]
    },
    {
      "cell_type": "code",
      "source": [
        "t = torch.tensor([[[1, 8],[3, 8]], [[1, 2], [3, 4]]])\n",
        "\n",
        "print(t.shape)\n",
        "print(t.size())\n",
        "print(t.dim())\n",
        "\n",
        "\n",
        "x = torch.arange(0, 100, 1) # random tensor\n",
        "[x.argmin(), x.argmax()]"
      ],
      "metadata": {
        "colab": {
          "base_uri": "https://localhost:8080/"
        },
        "id": "GFLc9WHxumXF",
        "outputId": "42633f93-baad-40f3-9105-66abb4cd8a4e"
      },
      "execution_count": null,
      "outputs": [
        {
          "output_type": "stream",
          "name": "stdout",
          "text": [
            "torch.Size([2, 2, 2])\n",
            "torch.Size([2, 2, 2])\n",
            "3\n"
          ]
        },
        {
          "output_type": "execute_result",
          "data": {
            "text/plain": [
              "[tensor(0), tensor(99)]"
            ]
          },
          "metadata": {},
          "execution_count": 4
        }
      ]
    },
    {
      "cell_type": "markdown",
      "source": [
        "## Tensor"
      ],
      "metadata": {
        "id": "eNaVtQDC1JlX"
      }
    },
    {
      "cell_type": "code",
      "source": [
        "# reshaping, stacking, viewing, squeeze, permute\n",
        "\n",
        "x = torch.arange(1.,11.) # random tensor\n",
        "x.shape"
      ],
      "metadata": {
        "colab": {
          "base_uri": "https://localhost:8080/"
        },
        "id": "vNqixtGTu_mh",
        "outputId": "f4946e7f-5cd6-4644-cbf5-d88e98c41f09"
      },
      "execution_count": null,
      "outputs": [
        {
          "output_type": "execute_result",
          "data": {
            "text/plain": [
              "torch.Size([10])"
            ]
          },
          "metadata": {},
          "execution_count": 11
        }
      ]
    },
    {
      "cell_type": "code",
      "source": [
        "# reshape [returns a new tensor]\n",
        "x_reshape = x.reshape(5, 2)\n",
        "x_reshape, x_reshape.shape"
      ],
      "metadata": {
        "colab": {
          "base_uri": "https://localhost:8080/"
        },
        "id": "cH1a6_YOpUo5",
        "outputId": "9f6b2236-1c68-4faf-e3ec-1e5f2ea67c94"
      },
      "execution_count": null,
      "outputs": [
        {
          "output_type": "execute_result",
          "data": {
            "text/plain": [
              "(tensor([[ 1.,  2.],\n",
              "         [ 3.,  4.],\n",
              "         [ 5.,  6.],\n",
              "         [ 7.,  8.],\n",
              "         [ 9., 10.]]),\n",
              " torch.Size([5, 2]))"
            ]
          },
          "metadata": {},
          "execution_count": 13
        }
      ]
    },
    {
      "cell_type": "code",
      "source": [
        "# View [shares the same memory as the original input, a pointer]\n",
        "z = x.view(1,9)"
      ],
      "metadata": {
        "id": "b3lm8R4bpujm"
      },
      "execution_count": null,
      "outputs": []
    },
    {
      "cell_type": "code",
      "source": [
        "# stacked\n",
        "x_stacked = torch.stack([x,x], dim=1)\n",
        "x_stacked, x_stacked.shape"
      ],
      "metadata": {
        "colab": {
          "base_uri": "https://localhost:8080/"
        },
        "id": "spdCpqmFqkWP",
        "outputId": "0276ab5d-c42e-4bd4-d13d-7b4701d16590"
      },
      "execution_count": null,
      "outputs": [
        {
          "output_type": "execute_result",
          "data": {
            "text/plain": [
              "(tensor([[ 1.,  1.],\n",
              "         [ 2.,  2.],\n",
              "         [ 3.,  3.],\n",
              "         [ 4.,  4.],\n",
              "         [ 5.,  5.],\n",
              "         [ 6.,  6.],\n",
              "         [ 7.,  7.],\n",
              "         [ 8.,  8.],\n",
              "         [ 9.,  9.],\n",
              "         [10., 10.]]),\n",
              " torch.Size([10, 2]))"
            ]
          },
          "metadata": {},
          "execution_count": 20
        }
      ]
    },
    {
      "cell_type": "markdown",
      "source": [
        "## Squeeze & Unsqueeze"
      ],
      "metadata": {
        "id": "yzdiUjat1CsC"
      }
    },
    {
      "cell_type": "code",
      "source": [
        "# squeeze [returns a tensor, with all the `1` dimension removeed]\n",
        "# unsqueeze [returns a tensor, with a new dimension added]\n",
        "x_reshaped = x.reshape(1, 10)\n",
        "x_squeezed = x_reshaped.squeeze()\n",
        "x_unsqueezed = x_reshaped.unsqueeze(0)\n",
        "x_squeezed, x_squeezed.shape, x_unsqueezed, x_unsqueezed.shape, x_reshaped, x_reshaped.shape"
      ],
      "metadata": {
        "colab": {
          "base_uri": "https://localhost:8080/"
        },
        "id": "-oBrjj1Aq9l4",
        "outputId": "5736aaf9-90e3-426b-f501-da8ec9f8849e"
      },
      "execution_count": null,
      "outputs": [
        {
          "output_type": "execute_result",
          "data": {
            "text/plain": [
              "(tensor([ 1.,  2.,  3.,  4.,  5.,  6.,  7.,  8.,  9., 10.]),\n",
              " torch.Size([10]),\n",
              " tensor([[[ 1.,  2.,  3.,  4.,  5.,  6.,  7.,  8.,  9., 10.]]]),\n",
              " torch.Size([1, 1, 10]),\n",
              " tensor([[ 1.,  2.,  3.,  4.,  5.,  6.,  7.,  8.,  9., 10.]]),\n",
              " torch.Size([1, 10]))"
            ]
          },
          "metadata": {},
          "execution_count": 35
        }
      ]
    },
    {
      "cell_type": "markdown",
      "source": [
        "## Permute"
      ],
      "metadata": {
        "id": "Uy6d7O691A6-"
      }
    },
    {
      "cell_type": "code",
      "source": [
        "# Permute [rearrange tensor dim in a specified order, returns a torch.view]\n",
        "y = torch.randn(2, 3, 5)\n",
        "y_muted = y.permute([2, 1 ,0])\n",
        "y_muted.shape, y.shape"
      ],
      "metadata": {
        "colab": {
          "base_uri": "https://localhost:8080/"
        },
        "id": "DufuZ4hBsmdc",
        "outputId": "f7db6067-3496-4b57-fb26-f79b9b074358"
      },
      "execution_count": null,
      "outputs": [
        {
          "output_type": "execute_result",
          "data": {
            "text/plain": [
              "(torch.Size([5, 3, 2]), torch.Size([2, 3, 5]))"
            ]
          },
          "metadata": {},
          "execution_count": 36
        }
      ]
    },
    {
      "cell_type": "markdown",
      "source": [
        "## Indexing"
      ],
      "metadata": {
        "id": "pmaIWqV5t8Ej"
      }
    },
    {
      "cell_type": "code",
      "source": [
        "# TRAVERSE\n",
        "\n",
        "# x = torch.arange(1,10).reshape(3,3).unsqueeze(0)\n",
        "x = torch.arange(1,10).reshape(1,3,3)\n",
        "x, x.shape"
      ],
      "metadata": {
        "colab": {
          "base_uri": "https://localhost:8080/"
        },
        "id": "uoHJ8IbAtiZ1",
        "outputId": "32d83f9b-68ae-46a5-fd45-7cf884aec0ae"
      },
      "execution_count": null,
      "outputs": [
        {
          "output_type": "execute_result",
          "data": {
            "text/plain": [
              "(tensor([[[1, 2, 3],\n",
              "          [4, 5, 6],\n",
              "          [7, 8, 9]]]),\n",
              " torch.Size([1, 3, 3]))"
            ]
          },
          "metadata": {},
          "execution_count": 43
        }
      ]
    },
    {
      "cell_type": "code",
      "source": [
        "x[0, 1, 2]"
      ],
      "metadata": {
        "colab": {
          "base_uri": "https://localhost:8080/"
        },
        "id": "1eA15cpluTs_",
        "outputId": "4a133f3c-6bac-4e38-d8c3-810ce62d1b8e"
      },
      "execution_count": null,
      "outputs": [
        {
          "output_type": "execute_result",
          "data": {
            "text/plain": [
              "tensor(6)"
            ]
          },
          "metadata": {},
          "execution_count": 45
        }
      ]
    },
    {
      "cell_type": "code",
      "source": [
        "print(x[:, 1, :] == x[:, 1]) # go to the inner row, and retriever all"
      ],
      "metadata": {
        "colab": {
          "base_uri": "https://localhost:8080/"
        },
        "id": "8wF0aCOEunVz",
        "outputId": "d2fa15b2-c3e4-4df6-cd45-1b25d1eef7d7"
      },
      "execution_count": null,
      "outputs": [
        {
          "output_type": "stream",
          "name": "stdout",
          "text": [
            "tensor([[True, True, True]])\n"
          ]
        }
      ]
    },
    {
      "cell_type": "markdown",
      "source": [
        "## Torch  && Numpy"
      ],
      "metadata": {
        "id": "5IkL6v7dwC_E"
      }
    },
    {
      "cell_type": "code",
      "source": [
        "npa = np.arange(1.,8.)\n",
        "t = torch.from_numpy(npa) # create a f64\n",
        "t= t.type(torch.float32)\n",
        "npa, npa.dtype, t, t.dtype, t.numpy() # tensor to numpy"
      ],
      "metadata": {
        "colab": {
          "base_uri": "https://localhost:8080/"
        },
        "id": "WMiUwy6xxR2d",
        "outputId": "37816fb9-d20f-4693-caa3-d8f01ed4af27"
      },
      "execution_count": null,
      "outputs": [
        {
          "output_type": "execute_result",
          "data": {
            "text/plain": [
              "(array([1., 2., 3., 4., 5., 6., 7.]),\n",
              " dtype('float64'),\n",
              " tensor([1., 2., 3., 4., 5., 6., 7.]),\n",
              " torch.float32,\n",
              " array([1., 2., 3., 4., 5., 6., 7.], dtype=float32))"
            ]
          },
          "metadata": {},
          "execution_count": 82
        }
      ]
    },
    {
      "cell_type": "markdown",
      "source": [
        "## Reproducibility (seeding random)"
      ],
      "metadata": {
        "id": "wgpCKThf0y9C"
      }
    },
    {
      "cell_type": "code",
      "source": [
        "rand_a = torch.randn(3, 4)\n",
        "rand_b = torch.randn(3, 4)\n",
        "rand_a, rand_b, rand_a == rand_b"
      ],
      "metadata": {
        "colab": {
          "base_uri": "https://localhost:8080/"
        },
        "id": "z0uvdVtJ1UdU",
        "outputId": "7e1b62ec-0cf3-4884-f35c-2d78de9839e0"
      },
      "execution_count": null,
      "outputs": [
        {
          "output_type": "execute_result",
          "data": {
            "text/plain": [
              "(tensor([[ 0.8446, -0.3567,  1.5678,  0.3369],\n",
              "         [ 0.2734, -0.4002, -1.1831,  1.3153],\n",
              "         [-0.1035,  1.1451, -0.7349, -0.8811]]),\n",
              " tensor([[-1.2678,  0.7899, -0.5958, -1.8741],\n",
              "         [-0.7738,  0.1709,  0.1819, -1.4499],\n",
              "         [ 2.3740, -2.3305, -0.0749, -0.1183]]),\n",
              " tensor([[False, False, False, False],\n",
              "         [False, False, False, False],\n",
              "         [False, False, False, False]]))"
            ]
          },
          "metadata": {},
          "execution_count": 87
        }
      ]
    },
    {
      "cell_type": "code",
      "source": [
        "RAND_SEED = 17\n",
        "\n",
        "torch.manual_seed(RAND_SEED)\n",
        "rand_c = torch.randn(3, 4)\n",
        "\n",
        "torch.manual_seed(RAND_SEED)\n",
        "rand_d = torch.randn(3, 4)\n",
        "\n",
        "rand_c, rand_d, rand_c == rand_d"
      ],
      "metadata": {
        "colab": {
          "base_uri": "https://localhost:8080/"
        },
        "id": "2Ev_4lM_1Woh",
        "outputId": "a72bc0f3-04c3-48f0-e8d8-18e2712de2e1"
      },
      "execution_count": null,
      "outputs": [
        {
          "output_type": "execute_result",
          "data": {
            "text/plain": [
              "(tensor([[-1.4135,  0.2336,  0.0340,  0.3499],\n",
              "         [-0.0145, -0.6124, -1.1835, -1.4831],\n",
              "         [ 1.8004,  0.0096,  0.1534, -2.6631]]),\n",
              " tensor([[-1.4135,  0.2336,  0.0340,  0.3499],\n",
              "         [-0.0145, -0.6124, -1.1835, -1.4831],\n",
              "         [ 1.8004,  0.0096,  0.1534, -2.6631]]),\n",
              " tensor([[True, True, True, True],\n",
              "         [True, True, True, True],\n",
              "         [True, True, True, True]]))"
            ]
          },
          "metadata": {},
          "execution_count": 89
        }
      ]
    },
    {
      "cell_type": "markdown",
      "source": [
        "## working with GPUs"
      ],
      "metadata": {
        "id": "skjhHQNx5130"
      }
    },
    {
      "cell_type": "code",
      "source": [
        "#check for GPU access\n",
        "!nvidia-smi"
      ],
      "metadata": {
        "id": "W3SDFper5Om5"
      },
      "execution_count": null,
      "outputs": []
    },
    {
      "cell_type": "code",
      "source": [
        "import torch\n",
        "torch.cuda.is_available()"
      ],
      "metadata": {
        "colab": {
          "base_uri": "https://localhost:8080/"
        },
        "id": "phIKQFb6s4NZ",
        "outputId": "de0fe847-b657-48e6-e6d0-f5c9b6a9fca0"
      },
      "execution_count": 1,
      "outputs": [
        {
          "output_type": "execute_result",
          "data": {
            "text/plain": [
              "True"
            ]
          },
          "metadata": {},
          "execution_count": 1
        }
      ]
    },
    {
      "cell_type": "code",
      "source": [
        "DEVICE = \"cuda\" if torch.cuda.is_available() else \"cpu\"\n",
        "DEVICE,"
      ],
      "metadata": {
        "colab": {
          "base_uri": "https://localhost:8080/"
        },
        "id": "x6-u686qtN51",
        "outputId": "d645a152-bee9-4900-d5ff-8ae1459e6e5b"
      },
      "execution_count": 3,
      "outputs": [
        {
          "output_type": "execute_result",
          "data": {
            "text/plain": [
              "('cuda',)"
            ]
          },
          "metadata": {},
          "execution_count": 3
        }
      ]
    },
    {
      "cell_type": "markdown",
      "source": [
        "### putting tensors on GPU"
      ],
      "metadata": {
        "id": "CIAAFC2dt1oc"
      }
    },
    {
      "cell_type": "code",
      "source": [
        "# cpu\n",
        "t = torch.tensor([1,2,3])\n",
        "t, t.device"
      ],
      "metadata": {
        "colab": {
          "base_uri": "https://localhost:8080/"
        },
        "id": "0E0UvEjftZ2h",
        "outputId": "871e9b2a-f255-4b7b-e5bf-85b946ff40fb"
      },
      "execution_count": 4,
      "outputs": [
        {
          "output_type": "execute_result",
          "data": {
            "text/plain": [
              "(tensor([1, 2, 3]), device(type='cpu'))"
            ]
          },
          "metadata": {},
          "execution_count": 4
        }
      ]
    },
    {
      "cell_type": "code",
      "source": [
        "# gpu\n",
        "t_gpu = t.to(DEVICE)\n",
        "t_gpu,"
      ],
      "metadata": {
        "colab": {
          "base_uri": "https://localhost:8080/"
        },
        "id": "7_HdDon_uWZV",
        "outputId": "477ab1a5-492e-4ed3-e575-80d61250b7aa"
      },
      "execution_count": 5,
      "outputs": [
        {
          "output_type": "execute_result",
          "data": {
            "text/plain": [
              "(tensor([1, 2, 3], device='cuda:0'),)"
            ]
          },
          "metadata": {},
          "execution_count": 5
        }
      ]
    },
    {
      "cell_type": "code",
      "source": [
        "t_gpu.to(\"cpu\").numpy() # numpy only works with CPU\n",
        "t_gpu.cpu().numpy() # numpy only works with CPU"
      ],
      "metadata": {
        "colab": {
          "base_uri": "https://localhost:8080/"
        },
        "id": "Ukbd6P47umh8",
        "outputId": "4447f4d7-5931-46b6-d56a-572c0de5ec48"
      },
      "execution_count": 8,
      "outputs": [
        {
          "output_type": "execute_result",
          "data": {
            "text/plain": [
              "array([1, 2, 3])"
            ]
          },
          "metadata": {},
          "execution_count": 8
        }
      ]
    }
  ]
}