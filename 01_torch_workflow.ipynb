{
  "nbformat": 4,
  "nbformat_minor": 0,
  "metadata": {
    "colab": {
      "provenance": [],
      "authorship_tag": "ABX9TyMuqo4RgX4ilxTbvpmUD2RS",
      "include_colab_link": true
    },
    "kernelspec": {
      "name": "python3",
      "display_name": "Python 3"
    },
    "language_info": {
      "name": "python"
    }
  },
  "cells": [
    {
      "cell_type": "markdown",
      "metadata": {
        "id": "view-in-github",
        "colab_type": "text"
      },
      "source": [
        "<a href=\"https://colab.research.google.com/github/dionysus98/l_torch/blob/main/01_torch_workflow.ipynb\" target=\"_parent\"><img src=\"https://colab.research.google.com/assets/colab-badge.svg\" alt=\"Open In Colab\"/></a>"
      ]
    },
    {
      "cell_type": "markdown",
      "source": [
        "# Torch workflow\n",
        "\n",
        "- Resources:\n",
        "  - [Pytorch Book](https://www.learnpytorch.io/)\n",
        "  - [Source code for the book](https://github.com/mrdbourke/pytorch-deep-learning)"
      ],
      "metadata": {
        "id": "VVZu-G0TxTV5"
      }
    },
    {
      "cell_type": "code",
      "execution_count": 1,
      "metadata": {
        "id": "6asioYtOwwEf"
      },
      "outputs": [],
      "source": [
        "to_cover = {\n",
        "    1: \"data (prepare and load)\",\n",
        "    2: \"build a model\",\n",
        "    3: \"fitting(traning) the modal\",\n",
        "    4: \"making predictions and evaluating the model\",\n",
        "    5: \"saving, loading the model\",\n",
        "    6: \"putting it all together\"\n",
        "    }"
      ]
    },
    {
      "cell_type": "code",
      "source": [
        "import torch\n",
        "from torch import nn ## neural networks\n",
        "import matplotlib.pyplot as plt\n",
        "\n",
        "torch.__version__"
      ],
      "metadata": {
        "colab": {
          "base_uri": "https://localhost:8080/",
          "height": 36
        },
        "id": "C_ScMk64ytGI",
        "outputId": "bc809dd0-12cb-423a-de13-56a49f6eef1a"
      },
      "execution_count": 2,
      "outputs": [
        {
          "output_type": "execute_result",
          "data": {
            "text/plain": [
              "'2.3.0+cu121'"
            ],
            "application/vnd.google.colaboratory.intrinsic+json": {
              "type": "string"
            }
          },
          "metadata": {},
          "execution_count": 2
        }
      ]
    },
    {
      "cell_type": "markdown",
      "source": [
        "## 1. Data - Preparing and Loading"
      ],
      "metadata": {
        "id": "MMXi_tCbzUXS"
      }
    },
    {
      "cell_type": "code",
      "source": [],
      "metadata": {
        "id": "0pe8zzknzNsH"
      },
      "execution_count": null,
      "outputs": []
    }
  ]
}