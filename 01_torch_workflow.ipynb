{
  "nbformat": 4,
  "nbformat_minor": 0,
  "metadata": {
    "colab": {
      "provenance": [],
      "authorship_tag": "ABX9TyPP6JYgwdQHycwRTRVFzlGC",
      "include_colab_link": true
    },
    "kernelspec": {
      "name": "python3",
      "display_name": "Python 3"
    },
    "language_info": {
      "name": "python"
    }
  },
  "cells": [
    {
      "cell_type": "markdown",
      "metadata": {
        "id": "view-in-github",
        "colab_type": "text"
      },
      "source": [
        "<a href=\"https://colab.research.google.com/github/dionysus98/l_torch/blob/main/01_torch_workflow.ipynb\" target=\"_parent\"><img src=\"https://colab.research.google.com/assets/colab-badge.svg\" alt=\"Open In Colab\"/></a>"
      ]
    },
    {
      "cell_type": "markdown",
      "source": [
        "# Torch workflow\n",
        "\n",
        "- Resources:\n",
        "  - [Pytorch Book](https://www.learnpytorch.io/)\n",
        "  - [Source code for the book](https://github.com/mrdbourke/pytorch-deep-learning)"
      ],
      "metadata": {
        "id": "VVZu-G0TxTV5"
      }
    },
    {
      "cell_type": "code",
      "execution_count": 2,
      "metadata": {
        "id": "6asioYtOwwEf"
      },
      "outputs": [],
      "source": [
        "to_cover = {\n",
        "    1: \"data (prepare and load)\",\n",
        "    2: \"build a model\",\n",
        "    3: \"fitting(traning) the modal\",\n",
        "    4: \"making predictions and evaluating the model\",\n",
        "    5: \"saving, loading the model\",\n",
        "    6: \"putting it all together\"\n",
        "    }"
      ]
    },
    {
      "cell_type": "code",
      "source": [
        "import torch\n",
        "from torch import nn ## neural networks\n",
        "import matplotlib.pyplot as plt\n",
        "\n",
        "torch.__version__"
      ],
      "metadata": {
        "colab": {
          "base_uri": "https://localhost:8080/",
          "height": 36
        },
        "id": "C_ScMk64ytGI",
        "outputId": "54ec87fd-e856-4440-ca6d-1d7d864da1df"
      },
      "execution_count": 7,
      "outputs": [
        {
          "output_type": "execute_result",
          "data": {
            "text/plain": [
              "'2.3.0+cu121'"
            ],
            "application/vnd.google.colaboratory.intrinsic+json": {
              "type": "string"
            }
          },
          "metadata": {},
          "execution_count": 7
        }
      ]
    },
    {
      "cell_type": "markdown",
      "source": [
        "## 1. Data - Preparing and Loading"
      ],
      "metadata": {
        "id": "MMXi_tCbzUXS"
      }
    },
    {
      "cell_type": "code",
      "source": [
        "# Linear regression\n",
        "\n",
        "# make a straight line with *known* paramters\n",
        "w = 0.7 #weight\n",
        "b = 0.3 #bias\n",
        "\n",
        "# create\n",
        "start = 0\n",
        "end = 1\n",
        "step = 0.02\n",
        "X = torch.arange(start, end, step).unsqueeze(1) # input matrix `X`\n",
        "# y = Ax + b, slope formula\n",
        "y = w * X + b # output\n",
        "\n",
        "X[:10], y[:10], len(X), len(y)\n"
      ],
      "metadata": {
        "id": "0pe8zzknzNsH",
        "colab": {
          "base_uri": "https://localhost:8080/"
        },
        "outputId": "234ca576-c22f-46c4-d6ad-6d1c7d5c5d54"
      },
      "execution_count": 4,
      "outputs": [
        {
          "output_type": "execute_result",
          "data": {
            "text/plain": [
              "(tensor([[0.0000],\n",
              "         [0.0200],\n",
              "         [0.0400],\n",
              "         [0.0600],\n",
              "         [0.0800],\n",
              "         [0.1000],\n",
              "         [0.1200],\n",
              "         [0.1400],\n",
              "         [0.1600],\n",
              "         [0.1800]]),\n",
              " tensor([[0.3000],\n",
              "         [0.3140],\n",
              "         [0.3280],\n",
              "         [0.3420],\n",
              "         [0.3560],\n",
              "         [0.3700],\n",
              "         [0.3840],\n",
              "         [0.3980],\n",
              "         [0.4120],\n",
              "         [0.4260]]),\n",
              " 50,\n",
              " 50)"
            ]
          },
          "metadata": {},
          "execution_count": 4
        }
      ]
    },
    {
      "cell_type": "markdown",
      "source": [
        "### Spliting data into training and test sets\n",
        "\n",
        "- traning set\n",
        "- validation set [?]\n",
        "- test set\n",
        "\n"
      ],
      "metadata": {
        "id": "YjYVDMbRPntV"
      }
    },
    {
      "cell_type": "code",
      "source": [
        "# split the data\n",
        "train_split = int(0.8 * len(X))\n",
        "X_train, y_train = X[:train_split], y[:train_split]\n",
        "X_test, y_test = X[train_split:], y[train_split:]\n",
        "len(X_train), len(y_train), len(X_test), len(y_test),\n"
      ],
      "metadata": {
        "colab": {
          "base_uri": "https://localhost:8080/"
        },
        "id": "v8CftSTwPMYb",
        "outputId": "d532f685-0168-4da8-d447-8eecc60ffe9f"
      },
      "execution_count": 6,
      "outputs": [
        {
          "output_type": "execute_result",
          "data": {
            "text/plain": [
              "(40, 40, 10, 10)"
            ]
          },
          "metadata": {},
          "execution_count": 6
        }
      ]
    },
    {
      "cell_type": "markdown",
      "source": [
        "### Visualize data"
      ],
      "metadata": {
        "id": "LGvB8BqDRXHI"
      }
    },
    {
      "cell_type": "code",
      "source": [
        "def plot_preds(train_data=X_train, train_labels=y_train,\n",
        "               test_data=X_test, test_labels=y_test,\n",
        "               predictions=None):\n",
        "  \"Plots training & test data, compares predictions\"\n",
        "  plt.figure(figsize=(7, 7))\n",
        "  # plot training data\n",
        "  plt.scatter(train_data, train_labels, c=\"b\", s=4, label=\"Training Data\")\n",
        "  # plot test data in green\n",
        "  plt.scatter(test_data, test_labels, c=\"g\", s=4, label=\"testing Data\")\n",
        "\n",
        "  if predictions is not None:\n",
        "    plt.scatter(test_data, predictions, c=\"r\", s=4, label=\"Predictions\")\n",
        "\n",
        "  plt.legend(prop={\"size\": 14})"
      ],
      "metadata": {
        "id": "2d904WjSRIik"
      },
      "execution_count": 18,
      "outputs": []
    },
    {
      "cell_type": "code",
      "source": [
        "plot_preds()"
      ],
      "metadata": {
        "colab": {
          "base_uri": "https://localhost:8080/",
          "height": 599
        },
        "id": "LSe46e9GSyoz",
        "outputId": "eed6b213-692a-48a9-f64c-2ec84c53a43b"
      },
      "execution_count": 19,
      "outputs": [
        {
          "output_type": "display_data",
          "data": {
            "text/plain": [
              "<Figure size 700x700 with 1 Axes>"
            ],
            "image/png": "[encoded data removed]"
          },
          "metadata": {}
        }
      ]
    },
    {
      "cell_type": "markdown",
      "source": [
        "## 2. Build Model"
      ],
      "metadata": {
        "id": "17QdVxaNT-9h"
      }
    },
    {
      "cell_type": "code",
      "source": [
        "from torch import nn\n",
        "\n",
        "class LinearRegressionModel(nn.Module):\n",
        "  def __init__(self):\n",
        "    super().__init__()\n",
        "    self.weights = nn.Parameter(\n",
        "        torch.randn(1,\n",
        "                    requires_grad=True,\n",
        "                    dtype=torch.float))\n",
        "\n",
        "    self.bias = nn.Parameter(\n",
        "        torch.randn(1,\n",
        "                    requires_grad=True,\n",
        "                    dtype=torch.float))\n",
        "\n",
        "  def forward(self, x: torch.Tensor) -> torch.Tensor:\n",
        "    return self.weigths * x + self.bias"
      ],
      "metadata": {
        "id": "gTnb1cKwTedd"
      },
      "execution_count": 23,
      "outputs": []
    },
    {
      "cell_type": "markdown",
      "source": [
        "### model building essentials\n",
        "- torch.nn\n",
        "- torch.nn.Parameter\n",
        "- torch.nn.Module\n",
        "- torch.optim\n",
        "- def forward()"
      ],
      "metadata": {
        "id": "uO1xN3feY7Cb"
      }
    },
    {
      "cell_type": "code",
      "source": [],
      "metadata": {
        "colab": {
          "base_uri": "https://localhost:8080/"
        },
        "id": "pOjRrhOmYEo4",
        "outputId": "5f89885f-8da2-42a3-b521-03aea9c30c4a"
      },
      "execution_count": 21,
      "outputs": [
        {
          "output_type": "execute_result",
          "data": {
            "text/plain": [
              "tensor([1.1327], requires_grad=True)"
            ]
          },
          "metadata": {},
          "execution_count": 21
        }
      ]
    }
  ]
}