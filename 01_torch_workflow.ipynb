{
  "nbformat": 4,
  "nbformat_minor": 0,
  "metadata": {
    "colab": {
      "provenance": [],
      "gpuType": "T4",
      "authorship_tag": "ABX9TyPxd0fVtkDcO+Udfvcx7Xhm",
      "include_colab_link": true
    },
    "kernelspec": {
      "name": "python3",
      "display_name": "Python 3"
    },
    "language_info": {
      "name": "python"
    },
    "accelerator": "GPU"
  },
  "cells": [
    {
      "cell_type": "markdown",
      "metadata": {
        "id": "view-in-github",
        "colab_type": "text"
      },
      "source": [
        "<a href=\"https://colab.research.google.com/github/dionysus98/l_torch/blob/main/01_torch_workflow.ipynb\" target=\"_parent\"><img src=\"https://colab.research.google.com/assets/colab-badge.svg\" alt=\"Open In Colab\"/></a>"
      ]
    },
    {
      "cell_type": "markdown",
      "source": [
        "# Torch workflow\n",
        "\n",
        "- Resources:\n",
        "  - [Pytorch Book](https://www.learnpytorch.io/)\n",
        "  - [Source code for the book](https://github.com/mrdbourke/pytorch-deep-learning)"
      ],
      "metadata": {
        "id": "VVZu-G0TxTV5"
      }
    },
    {
      "cell_type": "code",
      "execution_count": 1,
      "metadata": {
        "id": "6asioYtOwwEf"
      },
      "outputs": [],
      "source": [
        "to_cover = {\n",
        "    1: \"data (prepare and load)\",\n",
        "    2: \"build a model\",\n",
        "    3: \"fitting(traning) the modal\",\n",
        "    4: \"making predictions and evaluating the model\",\n",
        "    5: \"saving, loading the model\",\n",
        "    6: \"putting it all together\"\n",
        "    }"
      ]
    },
    {
      "cell_type": "code",
      "source": [
        "import torch\n",
        "from torch import nn ## neural networks\n",
        "import matplotlib.pyplot as plt\n",
        "\n",
        "torch.__version__"
      ],
      "metadata": {
        "colab": {
          "base_uri": "https://localhost:8080/",
          "height": 36
        },
        "id": "C_ScMk64ytGI",
        "outputId": "a7d913f6-40c9-41ef-b15e-0cf67b70baae"
      },
      "execution_count": 2,
      "outputs": [
        {
          "output_type": "execute_result",
          "data": {
            "text/plain": [
              "'2.3.0+cu121'"
            ],
            "application/vnd.google.colaboratory.intrinsic+json": {
              "type": "string"
            }
          },
          "metadata": {},
          "execution_count": 2
        }
      ]
    },
    {
      "cell_type": "markdown",
      "source": [
        "## 1. Data - Preparing and Loading"
      ],
      "metadata": {
        "id": "MMXi_tCbzUXS"
      }
    },
    {
      "cell_type": "code",
      "source": [
        "# Linear regression\n",
        "\n",
        "# make a straight line with *known* paramters\n",
        "w = 0.7 #weight\n",
        "b = 0.3 #bias\n",
        "\n",
        "# create\n",
        "start = 0\n",
        "end = 1\n",
        "step = 0.02\n",
        "X = torch.arange(start, end, step).unsqueeze(1) # input matrix `X`\n",
        "# y = Ax + b, slope formula\n",
        "y = w * X + b # output\n",
        "\n",
        "X[:10], y[:10], len(X), len(y)\n"
      ],
      "metadata": {
        "id": "0pe8zzknzNsH",
        "colab": {
          "base_uri": "https://localhost:8080/"
        },
        "outputId": "d0dffb26-1022-4ff2-9eca-73d97288de0b"
      },
      "execution_count": 3,
      "outputs": [
        {
          "output_type": "execute_result",
          "data": {
            "text/plain": [
              "(tensor([[0.0000],\n",
              "         [0.0200],\n",
              "         [0.0400],\n",
              "         [0.0600],\n",
              "         [0.0800],\n",
              "         [0.1000],\n",
              "         [0.1200],\n",
              "         [0.1400],\n",
              "         [0.1600],\n",
              "         [0.1800]]),\n",
              " tensor([[0.3000],\n",
              "         [0.3140],\n",
              "         [0.3280],\n",
              "         [0.3420],\n",
              "         [0.3560],\n",
              "         [0.3700],\n",
              "         [0.3840],\n",
              "         [0.3980],\n",
              "         [0.4120],\n",
              "         [0.4260]]),\n",
              " 50,\n",
              " 50)"
            ]
          },
          "metadata": {},
          "execution_count": 3
        }
      ]
    },
    {
      "cell_type": "markdown",
      "source": [
        "### Spliting data into training and test sets\n",
        "\n",
        "- traning set\n",
        "- validation set [?]\n",
        "- test set\n",
        "\n"
      ],
      "metadata": {
        "id": "YjYVDMbRPntV"
      }
    },
    {
      "cell_type": "code",
      "source": [
        "# split the data\n",
        "train_split = int(0.8 * len(X))\n",
        "X_train, y_train = X[:train_split], y[:train_split]\n",
        "X_test, y_test = X[train_split:], y[train_split:]\n",
        "len(X_train), len(y_train), len(X_test), len(y_test),\n"
      ],
      "metadata": {
        "colab": {
          "base_uri": "https://localhost:8080/"
        },
        "id": "v8CftSTwPMYb",
        "outputId": "2b767d81-a4d0-4216-dc5f-15bafe57306c"
      },
      "execution_count": 4,
      "outputs": [
        {
          "output_type": "execute_result",
          "data": {
            "text/plain": [
              "(40, 40, 10, 10)"
            ]
          },
          "metadata": {},
          "execution_count": 4
        }
      ]
    },
    {
      "cell_type": "markdown",
      "source": [
        "### Visualize data"
      ],
      "metadata": {
        "id": "LGvB8BqDRXHI"
      }
    },
    {
      "cell_type": "code",
      "source": [
        "def plot_preds(train_data=X_train, train_labels=y_train,\n",
        "               test_data=X_test, test_labels=y_test,\n",
        "               predictions=None):\n",
        "  \"Plots training & test data, compares predictions\"\n",
        "  plt.figure(figsize=(7, 7))\n",
        "  # plot training data\n",
        "  plt.scatter(train_data, train_labels, c=\"b\", s=4, label=\"Training Data\")\n",
        "  # plot test data in green\n",
        "  plt.scatter(test_data, test_labels, c=\"g\", s=4, label=\"testing Data\")\n",
        "\n",
        "  if predictions is not None:\n",
        "    plt.scatter(test_data, predictions, c=\"r\", s=4, label=\"Predictions\")\n",
        "\n",
        "  plt.legend(prop={\"size\": 14})"
      ],
      "metadata": {
        "id": "2d904WjSRIik"
      },
      "execution_count": 5,
      "outputs": []
    },
    {
      "cell_type": "code",
      "source": [
        "plot_preds()"
      ],
      "metadata": {
        "colab": {
          "base_uri": "https://localhost:8080/",
          "height": 599
        },
        "id": "LSe46e9GSyoz",
        "outputId": "eed6b213-692a-48a9-f64c-2ec84c53a43b"
      },
      "execution_count": null,
      "outputs": [
        {
          "output_type": "display_data",
          "data": {
            "text/plain": [
              "<Figure size 700x700 with 1 Axes>"
            ],
            "image/png": "[encoded data removed]"
          },
          "metadata": {}
        }
      ]
    },
    {
      "cell_type": "markdown",
      "source": [
        "## 2. Build Model"
      ],
      "metadata": {
        "id": "17QdVxaNT-9h"
      }
    },
    {
      "cell_type": "code",
      "source": [
        "from torch import nn\n",
        "\n",
        "class LinearRegressionModel(nn.Module):\n",
        "  def __init__(self):\n",
        "    super().__init__()\n",
        "    self.weights = nn.Parameter(\n",
        "    torch.randn(1,\n",
        "          requires_grad=True,\n",
        "          dtype=torch.float))\n",
        "\n",
        "    self.bias = nn.Parameter(\n",
        "    torch.randn(1,\n",
        "          requires_grad=True,\n",
        "          dtype=torch.float))\n",
        "\n",
        "  def forward(self, x: torch.Tensor) -> torch.Tensor:\n",
        "    return self.weights * x + self.bias"
      ],
      "metadata": {
        "id": "gTnb1cKwTedd"
      },
      "execution_count": 6,
      "outputs": []
    },
    {
      "cell_type": "markdown",
      "source": [
        "### model building essentials\n",
        "- torch.nn\n",
        "- torch.nn.Parameter\n",
        "- torch.nn.Module\n",
        "- torch.optim\n",
        "- def forward()\n",
        "- torch.utils.data.Dataset\n",
        "- torch.utils.data.DataLoader"
      ],
      "metadata": {
        "id": "uO1xN3feY7Cb"
      }
    },
    {
      "cell_type": "code",
      "source": [
        "# create a random seed\n",
        "torch.manual_seed(42)\n",
        "\n",
        "# instantiate the model\n",
        "model_0 = LinearRegressionModel()\n",
        "\n",
        "list(model_0.parameters())"
      ],
      "metadata": {
        "colab": {
          "base_uri": "https://localhost:8080/"
        },
        "id": "pOjRrhOmYEo4",
        "outputId": "e848b229-4f57-431e-b4da-4f350acaa928"
      },
      "execution_count": 85,
      "outputs": [
        {
          "output_type": "execute_result",
          "data": {
            "text/plain": [
              "[Parameter containing:\n",
              " tensor([0.3367], requires_grad=True),\n",
              " Parameter containing:\n",
              " tensor([0.1288], requires_grad=True)]"
            ]
          },
          "metadata": {},
          "execution_count": 85
        }
      ]
    },
    {
      "cell_type": "code",
      "source": [
        "# named parameters\n",
        "model_0.state_dict()"
      ],
      "metadata": {
        "colab": {
          "base_uri": "https://localhost:8080/"
        },
        "id": "laa0ngI7tRpV",
        "outputId": "b0a22cee-1b58-4d68-e441-2a6880e04bb8"
      },
      "execution_count": 86,
      "outputs": [
        {
          "output_type": "execute_result",
          "data": {
            "text/plain": [
              "OrderedDict([('weights', tensor([0.3367])), ('bias', tensor([0.1288]))])"
            ]
          },
          "metadata": {},
          "execution_count": 86
        }
      ]
    },
    {
      "cell_type": "markdown",
      "source": [
        "### making prediction using `torch.inference_mode()`"
      ],
      "metadata": {
        "id": "b363sWZVt_hp"
      }
    },
    {
      "cell_type": "code",
      "source": [
        "# make predictions/inference with model\n",
        "with torch.inference_mode(): # removes the gradient info, since we are just doing forward pass\n",
        "  y_preds = model_0(X_test)\n",
        "\n",
        "plot_preds(predictions=y_preds)"
      ],
      "metadata": {
        "colab": {
          "base_uri": "https://localhost:8080/",
          "height": 599
        },
        "id": "wjcxOzH_t0yh",
        "outputId": "1ca5fbf3-9779-4d8c-dffd-d431b26dbf62"
      },
      "execution_count": 87,
      "outputs": [
        {
          "output_type": "display_data",
          "data": {
            "text/plain": [
              "<Figure size 700x700 with 1 Axes>"
            ],
            "image/png": "[encoded data removed]"
          },
          "metadata": {}
        }
      ]
    },
    {
      "cell_type": "markdown",
      "source": [
        "## 3. Training Model\n",
        "\n",
        "Things we need for training:\n",
        "- loss function\n",
        "- optimizer\n"
      ],
      "metadata": {
        "id": "WFNvErolxCaY"
      }
    },
    {
      "cell_type": "code",
      "source": [
        "## Learning Rate\n",
        "lr = 0.01\n",
        "\n",
        "## loss function - MAE\n",
        "loss_fn = nn.L1Loss()\n",
        "\n",
        "## Optimizer - Stochastic Gradient Descent\n",
        "optimizer = torch.optim.SGD(\n",
        "    model_0.parameters(),\n",
        "    lr=lr)"
      ],
      "metadata": {
        "id": "7F3Wo1RGwR3R"
      },
      "execution_count": 88,
      "outputs": []
    },
    {
      "cell_type": "markdown",
      "source": [
        "### Building a training Loop\n",
        "0. loop through the data\n",
        "1. Forward pass\n",
        "2. calculate the loss\n",
        "3. Optimizer Zero grad\n",
        "4. Loss Backward: BackProp\n",
        "5. Optimizer step\n"
      ],
      "metadata": {
        "id": "-ehkBLOvRJ7U"
      }
    },
    {
      "cell_type": "code",
      "source": [
        "torch.manual_seed(42)\n",
        "# An epoch is one loop through the data..\n",
        "epochs = 200\n",
        "\n",
        "# Track\n",
        "epoch_count = []\n",
        "loss_values = []\n",
        "test_loss_values = []\n",
        "\n",
        "# 0. loop\n",
        "for epoch in range(epochs):\n",
        "  # Set the model to training mode\n",
        "  model_0.train() # sets all params that require grad to require grad\n",
        "\n",
        "  # 1. Forward Pass\n",
        "  y_pred = model_0(X_train)\n",
        "\n",
        "  # 2. calc Loss MAE\n",
        "  loss = loss_fn(y_pred, y_train)\n",
        "\n",
        "  # 3. Optim Zero Grad\n",
        "  optimizer.zero_grad()\n",
        "\n",
        "  # 4. Backward Pass\n",
        "  loss.backward()\n",
        "\n",
        "  # 5. Step the optim (perform grad descent)\n",
        "  optimizer.step()\n",
        "\n",
        "  ### Testing\n",
        "  model_0.eval() # turns off stuff not needed for testing\n",
        "\n",
        "  with torch.inference_mode(): # turns off grad tracking\n",
        "      # 1. Forward Pass\n",
        "      test_pred = model_0(X_test)\n",
        "\n",
        "      # 2. calc Loss\n",
        "      test_loss = loss_fn(test_pred, y_test)\n",
        "\n",
        "  if epoch % 10 == 0:\n",
        "    print(f\"k: {epoch} | Loss: {loss} | Test loss: {test_loss}\")\n",
        "\n",
        "    epoch_count.append(epoch)\n",
        "    loss_values.append(loss)\n",
        "    test_loss_values.append(test_loss)\n",
        "\n",
        "    for item in model_0.state_dict().items():\n",
        "      print(item)"
      ],
      "metadata": {
        "colab": {
          "base_uri": "https://localhost:8080/"
        },
        "id": "dqYRwJxcP0VS",
        "outputId": "1d3a07dd-6e39-41bc-a9aa-03f76cd8ca79"
      },
      "execution_count": 89,
      "outputs": [
        {
          "output_type": "stream",
          "name": "stdout",
          "text": [
            "k: 0 | Loss: 0.31288138031959534 | Test loss: 0.48106518387794495\n",
            "('weights', tensor([0.3406]))\n",
            "('bias', tensor([0.1388]))\n",
            "k: 10 | Loss: 0.1976713240146637 | Test loss: 0.3463551998138428\n",
            "('weights', tensor([0.3796]))\n",
            "('bias', tensor([0.2388]))\n",
            "k: 20 | Loss: 0.08908725529909134 | Test loss: 0.21729660034179688\n",
            "('weights', tensor([0.4184]))\n",
            "('bias', tensor([0.3333]))\n",
            "k: 30 | Loss: 0.053148526698350906 | Test loss: 0.14464017748832703\n",
            "('weights', tensor([0.4512]))\n",
            "('bias', tensor([0.3768]))\n",
            "k: 40 | Loss: 0.04543796554207802 | Test loss: 0.11360953003168106\n",
            "('weights', tensor([0.4748]))\n",
            "('bias', tensor([0.3868]))\n",
            "k: 50 | Loss: 0.04167863354086876 | Test loss: 0.09919948130846024\n",
            "('weights', tensor([0.4938]))\n",
            "('bias', tensor([0.3843]))\n",
            "k: 60 | Loss: 0.03818932920694351 | Test loss: 0.08886633068323135\n",
            "('weights', tensor([0.5116]))\n",
            "('bias', tensor([0.3788]))\n",
            "k: 70 | Loss: 0.03476089984178543 | Test loss: 0.0805937647819519\n",
            "('weights', tensor([0.5288]))\n",
            "('bias', tensor([0.3718]))\n",
            "k: 80 | Loss: 0.03132382780313492 | Test loss: 0.07232122868299484\n",
            "('weights', tensor([0.5459]))\n",
            "('bias', tensor([0.3648]))\n",
            "k: 90 | Loss: 0.02788739837706089 | Test loss: 0.06473556160926819\n",
            "('weights', tensor([0.5629]))\n",
            "('bias', tensor([0.3573]))\n",
            "k: 100 | Loss: 0.024458957836031914 | Test loss: 0.05646304413676262\n",
            "('weights', tensor([0.5800]))\n",
            "('bias', tensor([0.3503]))\n",
            "k: 110 | Loss: 0.021020207554101944 | Test loss: 0.04819049686193466\n",
            "('weights', tensor([0.5972]))\n",
            "('bias', tensor([0.3433]))\n",
            "k: 120 | Loss: 0.01758546568453312 | Test loss: 0.04060482233762741\n",
            "('weights', tensor([0.6141]))\n",
            "('bias', tensor([0.3358]))\n",
            "k: 130 | Loss: 0.014155393466353416 | Test loss: 0.03233227878808975\n",
            "('weights', tensor([0.6313]))\n",
            "('bias', tensor([0.3288]))\n",
            "k: 140 | Loss: 0.010716589167714119 | Test loss: 0.024059748277068138\n",
            "('weights', tensor([0.6485]))\n",
            "('bias', tensor([0.3218]))\n",
            "k: 150 | Loss: 0.0072835334576666355 | Test loss: 0.016474086791276932\n",
            "('weights', tensor([0.6654]))\n",
            "('bias', tensor([0.3143]))\n",
            "k: 160 | Loss: 0.0038517764769494534 | Test loss: 0.008201557211577892\n",
            "('weights', tensor([0.6826]))\n",
            "('bias', tensor([0.3073]))\n",
            "k: 170 | Loss: 0.008932482451200485 | Test loss: 0.005023092031478882\n",
            "('weights', tensor([0.6951]))\n",
            "('bias', tensor([0.2993]))\n",
            "k: 180 | Loss: 0.008932482451200485 | Test loss: 0.005023092031478882\n",
            "('weights', tensor([0.6951]))\n",
            "('bias', tensor([0.2993]))\n",
            "k: 190 | Loss: 0.008932482451200485 | Test loss: 0.005023092031478882\n",
            "('weights', tensor([0.6951]))\n",
            "('bias', tensor([0.2993]))\n"
          ]
        }
      ]
    },
    {
      "cell_type": "code",
      "source": [
        "# make predictions/inference with model\n",
        "with torch.inference_mode(): # removes the gradient info, since we are just doing forward pass\n",
        "  y_preds_new = model_0(X_test)\n",
        "\n",
        "plot_preds(predictions=y_preds_new)"
      ],
      "metadata": {
        "colab": {
          "base_uri": "https://localhost:8080/",
          "height": 599
        },
        "id": "wDxjKk1wbrSS",
        "outputId": "19374bc3-727a-45db-e9b7-6ea60768d322"
      },
      "execution_count": 90,
      "outputs": [
        {
          "output_type": "display_data",
          "data": {
            "text/plain": [
              "<Figure size 700x700 with 1 Axes>"
            ],
            "image/png": "[encoded data removed]"
          },
          "metadata": {}
        }
      ]
    },
    {
      "cell_type": "code",
      "source": [
        "import numpy as np\n",
        "\n",
        "plt.plot(epoch_count,\n",
        "         np.array(torch.tensor(loss_values).cpu().numpy()),\n",
        "         label=\"Train Loss\")\n",
        "plt.plot(epoch_count,\n",
        "         np.array(torch.tensor(test_loss_values).cpu().numpy()),\n",
        "         label=\"Train Loss\")\n",
        "plt.title(\"Training and Test loss curves\")\n",
        "plt.ylabel(\"Loss\")\n",
        "plt.xlabel(\"Epochs\")\n",
        "plt.legend()"
      ],
      "metadata": {
        "colab": {
          "base_uri": "https://localhost:8080/",
          "height": 489
        },
        "id": "CmWNe5_HgqbN",
        "outputId": "3b579604-6b3a-4559-e64d-8d97202f0146"
      },
      "execution_count": 92,
      "outputs": [
        {
          "output_type": "execute_result",
          "data": {
            "text/plain": [
              "<matplotlib.legend.Legend at 0x7fa2b70d72b0>"
            ]
          },
          "metadata": {},
          "execution_count": 92
        },
        {
          "output_type": "display_data",
          "data": {
            "text/plain": [
              "<Figure size 640x480 with 1 Axes>"
            ],
            "image/png": "[encoded data removed]"
          },
          "metadata": {}
        }
      ]
    },
    {
      "cell_type": "markdown",
      "source": [
        "## Saving & Loading Models\n",
        "\n",
        "1. `torch.save()` - saves a object in python pickle format\n",
        "2. `torch.load()`\n",
        "3. `torch.nn.Module.load_state_dict()`"
      ],
      "metadata": {
        "id": "bj0iUWjWj8g0"
      }
    },
    {
      "cell_type": "code",
      "source": [
        "model_0.state_dict()"
      ],
      "metadata": {
        "colab": {
          "base_uri": "https://localhost:8080/"
        },
        "id": "ZQb1AjS9g0TC",
        "outputId": "3d3d6ad4-b93e-4e9f-f1e3-3fae25d71715"
      },
      "execution_count": 93,
      "outputs": [
        {
          "output_type": "execute_result",
          "data": {
            "text/plain": [
              "OrderedDict([('weights', tensor([0.6990])), ('bias', tensor([0.3093]))])"
            ]
          },
          "metadata": {},
          "execution_count": 93
        }
      ]
    },
    {
      "cell_type": "code",
      "source": [
        "# Saving Model\n",
        "from pathlib import Path\n",
        "\n",
        "# create a directory\n",
        "# MODEL_PATH = Path(\"drive/MyDrive/ML/torch/models\")\n",
        "MODEL_PATH = Path(\"models\")\n",
        "MODEL_PATH.mkdir(parents=True, exist_ok=True)\n",
        "\n",
        "MODEL_NAME = \"01_model_0.pth\"\n",
        "MODEL_SAVE_PATH = MODEL_PATH / MODEL_NAME"
      ],
      "metadata": {
        "id": "VXcV8QwNlMnr"
      },
      "execution_count": 98,
      "outputs": []
    },
    {
      "cell_type": "code",
      "source": [
        "# Save the state_dict\n",
        "torch.save(obj=model_0.state_dict(), f=MODEL_SAVE_PATH)"
      ],
      "metadata": {
        "id": "lZ9fvTl5nLkY"
      },
      "execution_count": null,
      "outputs": []
    },
    {
      "cell_type": "code",
      "source": [
        "# Loading Model\n",
        "model_0_loaded = LinearRegressionModel()\n",
        "model_0_loaded.load_state_dict(torch.load(MODEL_SAVE_PATH))"
      ],
      "metadata": {
        "colab": {
          "base_uri": "https://localhost:8080/"
        },
        "id": "26ptdeIynTzL",
        "outputId": "448b69f7-3349-4dd2-cc6c-7282bde1a4a6"
      },
      "execution_count": 104,
      "outputs": [
        {
          "output_type": "execute_result",
          "data": {
            "text/plain": [
              "(OrderedDict([('weights', tensor([0.6990])), ('bias', tensor([0.3093]))]),)"
            ]
          },
          "metadata": {},
          "execution_count": 104
        }
      ]
    },
    {
      "cell_type": "code",
      "source": [
        "model_0_loaded.state_dict(),"
      ],
      "metadata": {
        "colab": {
          "base_uri": "https://localhost:8080/"
        },
        "id": "DZA9jiS7oXZN",
        "outputId": "bc00e35b-b45f-4a68-99fe-6733da2325f9"
      },
      "execution_count": 105,
      "outputs": [
        {
          "output_type": "execute_result",
          "data": {
            "text/plain": [
              "(OrderedDict([('weights', tensor([0.6990])), ('bias', tensor([0.3093]))]),)"
            ]
          },
          "metadata": {},
          "execution_count": 105
        }
      ]
    },
    {
      "cell_type": "code",
      "source": [
        "# Make predictions with the loaded model\n",
        "\n",
        "model_0_loaded.eval() # turns off stuff not needed for testing\n",
        "with torch.inference_mode(): # turns off grad tracking\n",
        "    # 1. Forward Pass\n",
        "    loaded_preds = model_0_loaded(X_test)"
      ],
      "metadata": {
        "id": "rQg-b6C5ofss"
      },
      "execution_count": 107,
      "outputs": []
    },
    {
      "cell_type": "code",
      "source": [
        "# Make predictions with the loaded model\n",
        "model_0.eval() # turns off stuff not needed for testing\n",
        "with torch.inference_mode(): # turns off grad tracking\n",
        "    # 1. Forward Pass\n",
        "    y_preds = model_0(X_test)"
      ],
      "metadata": {
        "id": "gf1tqVm3o-RA"
      },
      "execution_count": 108,
      "outputs": []
    },
    {
      "cell_type": "code",
      "source": [
        "y_preds == loaded_preds,"
      ],
      "metadata": {
        "colab": {
          "base_uri": "https://localhost:8080/"
        },
        "id": "7lmUrKERpG1L",
        "outputId": "28019cad-432d-40bd-c251-9f1c31d8ce39"
      },
      "execution_count": 110,
      "outputs": [
        {
          "output_type": "execute_result",
          "data": {
            "text/plain": [
              "(tensor([[True],\n",
              "         [True],\n",
              "         [True],\n",
              "         [True],\n",
              "         [True],\n",
              "         [True],\n",
              "         [True],\n",
              "         [True],\n",
              "         [True],\n",
              "         [True]]),)"
            ]
          },
          "metadata": {},
          "execution_count": 110
        }
      ]
    },
    {
      "cell_type": "markdown",
      "source": [
        "## 6. Putting it all together"
      ],
      "metadata": {
        "id": "9AupK20KpjH8"
      }
    },
    {
      "cell_type": "code",
      "source": [
        "import torch\n",
        "from torch import nn\n",
        "import matplotlib.pyplot as plt\n",
        "import numpy as np"
      ],
      "metadata": {
        "id": "_wyci1GBpzwe"
      },
      "execution_count": 1,
      "outputs": []
    },
    {
      "cell_type": "code",
      "source": [
        "device = \"cuda\" if torch.cuda.is_available() else \"cpu\"\n",
        "print(f\"Using device: {device}\")"
      ],
      "metadata": {
        "colab": {
          "base_uri": "https://localhost:8080/"
        },
        "id": "Cz8Y4nu1qGsa",
        "outputId": "69d15698-0de1-4990-a6d0-1642900e3479"
      },
      "execution_count": 2,
      "outputs": [
        {
          "output_type": "stream",
          "name": "stdout",
          "text": [
            "Using device: cuda\n"
          ]
        }
      ]
    },
    {
      "cell_type": "markdown",
      "source": [
        "### 6.1 Data"
      ],
      "metadata": {
        "id": "dwSNa9JypnPl"
      }
    },
    {
      "cell_type": "code",
      "source": [
        "w = 0.8\n",
        "b = 0.2\n",
        "\n",
        "start = 0\n",
        "end = 1\n",
        "step = 0.02\n",
        "\n",
        "X = torch.arange(start, end, step).unsqueeze(dim=1)\n",
        "y = (w * X) + b"
      ],
      "metadata": {
        "id": "FzHnR8wJpqvr"
      },
      "execution_count": 32,
      "outputs": []
    },
    {
      "cell_type": "code",
      "source": [
        "train_split = int(0.8 * len(X))\n",
        "X_train, y_train = X[:train_split], y[:train_split]\n",
        "X_test, y_test = X[train_split:], y[train_split:]\n",
        "\n",
        "len(X_train), len(y_train), len(X_test), len(y_test)"
      ],
      "metadata": {
        "colab": {
          "base_uri": "https://localhost:8080/"
        },
        "id": "fKj-c9r_riS7",
        "outputId": "a2f0d774-c1d0-49c8-bec8-646e5f621138"
      },
      "execution_count": 33,
      "outputs": [
        {
          "output_type": "execute_result",
          "data": {
            "text/plain": [
              "(40, 40, 10, 10)"
            ]
          },
          "metadata": {},
          "execution_count": 33
        }
      ]
    },
    {
      "cell_type": "code",
      "source": [
        "plot_preds(X_train, y_train, X_test, y_test)"
      ],
      "metadata": {
        "colab": {
          "base_uri": "https://localhost:8080/",
          "height": 599
        },
        "id": "iOepMmQfr7Ei",
        "outputId": "2954e80d-fc4e-425c-f817-ab34e0d2ef0c"
      },
      "execution_count": 34,
      "outputs": [
        {
          "output_type": "display_data",
          "data": {
            "text/plain": [
              "<Figure size 700x700 with 1 Axes>"
            ],
            "image/png": "[encoded data removed]"
          },
          "metadata": {}
        }
      ]
    },
    {
      "cell_type": "markdown",
      "source": [
        "## 6.2 Build Model"
      ],
      "metadata": {
        "id": "4adJw_kwsDTE"
      }
    },
    {
      "cell_type": "code",
      "source": [
        "class LinearRegressionModelV2(nn.Module):\n",
        "  def __init__(self):\n",
        "    super().__init__()\n",
        "    # Use nn.Linear() for params\n",
        "    self.linear_layer = nn.Linear(\n",
        "        in_features=1, # one input\n",
        "        out_features=1 # one output\n",
        "        )\n",
        "\n",
        "  def forward(self, x: torch.Tensor) -> torch.Tensor:\n",
        "    # return self.linear_layer.forward(x)\n",
        "    return self.linear_layer(x)\n"
      ],
      "metadata": {
        "id": "QobpjDcZsIQ6"
      },
      "execution_count": 35,
      "outputs": []
    },
    {
      "cell_type": "code",
      "source": [
        "torch.manual_seed(42)\n",
        "model_1 = LinearRegressionModelV2()\n",
        "model_1.state_dict(),"
      ],
      "metadata": {
        "colab": {
          "base_uri": "https://localhost:8080/"
        },
        "id": "JMuebUssuGIi",
        "outputId": "fd33dd91-67cc-4a9b-e2a7-988044fa5fe5"
      },
      "execution_count": 36,
      "outputs": [
        {
          "output_type": "execute_result",
          "data": {
            "text/plain": [
              "(OrderedDict([('linear_layer.weight', tensor([[0.7645]])),\n",
              "              ('linear_layer.bias', tensor([0.8300]))]),)"
            ]
          },
          "metadata": {},
          "execution_count": 36
        }
      ]
    },
    {
      "cell_type": "code",
      "source": [
        "model_1.to(device)\n",
        "next(model_1.parameters()).device"
      ],
      "metadata": {
        "colab": {
          "base_uri": "https://localhost:8080/"
        },
        "id": "yIFq2OYLvO8H",
        "outputId": "1aabee93-7c34-42a8-eba2-ce7dd5808af0"
      },
      "execution_count": 37,
      "outputs": [
        {
          "output_type": "execute_result",
          "data": {
            "text/plain": [
              "device(type='cuda', index=0)"
            ]
          },
          "metadata": {},
          "execution_count": 37
        }
      ]
    },
    {
      "cell_type": "markdown",
      "source": [
        "### 6.3 Training"
      ],
      "metadata": {
        "id": "f-BQH42Lu9HQ"
      }
    },
    {
      "cell_type": "code",
      "source": [
        "learning_rate=0.01\n",
        "loss_fn = nn.L1Loss()\n",
        "optm = torch.optim.SGD(lr=learning_rate,\n",
        "                       params=model_1.parameters())"
      ],
      "metadata": {
        "id": "sRQreC4cvn-j"
      },
      "execution_count": 38,
      "outputs": []
    },
    {
      "cell_type": "code",
      "source": [
        "epoch_counts = []\n",
        "loss_values = []\n",
        "test_loss_values = []\n",
        "\n",
        "epochs = 200\n",
        "\n",
        "torch.manual_seed(42)\n",
        "\n",
        "# Data on Target Device\n",
        "X_train = X_train.to(device)\n",
        "y_train = y_train.to(device)\n",
        "X_test = X_test.to(device)\n",
        "y_test = y_test.to(device)\n",
        "\n",
        "for epoch in range(epochs):\n",
        "  # set to train\n",
        "  model_1.train()\n",
        "  # 1. forward pass\n",
        "  y_pred = model_1(X_train)\n",
        "  # 2. Loss\n",
        "  loss = loss_fn(y_pred, y_train)\n",
        "  # 3. Zero Grad\n",
        "  optm.zero_grad()\n",
        "  # 4. Back Prop\n",
        "  loss.backward()\n",
        "  # 5. Optm step\n",
        "  optm.step()\n",
        "\n",
        "  # Testing\n",
        "  model_1.eval()\n",
        "  with torch.inference_mode():\n",
        "    test_pred = model_1(X_test)\n",
        "    test_loss = loss_fn(test_pred, y_test)\n",
        "\n",
        "  # logging\n",
        "  if epoch % 10 == 0:\n",
        "    print(f\"k: {epoch} | loss: {loss} | test_loss: {test_loss}\")\n"
      ],
      "metadata": {
        "colab": {
          "base_uri": "https://localhost:8080/"
        },
        "id": "5S871Zg_uaMm",
        "outputId": "e56351aa-9490-4a58-f258-0776a5564476"
      },
      "execution_count": 39,
      "outputs": [
        {
          "output_type": "stream",
          "name": "stdout",
          "text": [
            "k: 0 | loss: 0.6161779165267944 | test_loss: 0.5849762558937073\n",
            "k: 10 | loss: 0.5009680986404419 | test_loss: 0.45026642084121704\n",
            "k: 20 | loss: 0.3857581913471222 | test_loss: 0.3155565857887268\n",
            "k: 30 | loss: 0.2705483138561249 | test_loss: 0.180846706032753\n",
            "k: 40 | loss: 0.15533843636512756 | test_loss: 0.046136897057294846\n",
            "k: 50 | loss: 0.05875825881958008 | test_loss: 0.06886561214923859\n",
            "k: 60 | loss: 0.04580378159880638 | test_loss: 0.09473040699958801\n",
            "k: 70 | loss: 0.041819483041763306 | test_loss: 0.09405827522277832\n",
            "k: 80 | loss: 0.03831038996577263 | test_loss: 0.08853326737880707\n",
            "k: 90 | loss: 0.034879546612501144 | test_loss: 0.08094760775566101\n",
            "k: 100 | loss: 0.03144557774066925 | test_loss: 0.07267507165670395\n",
            "k: 110 | loss: 0.028006771579384804 | test_loss: 0.06440252810716629\n",
            "k: 120 | loss: 0.024577612057328224 | test_loss: 0.056816864758729935\n",
            "k: 130 | loss: 0.021141953766345978 | test_loss: 0.04854437708854675\n",
            "k: 140 | loss: 0.017704110592603683 | test_loss: 0.040958791971206665\n",
            "k: 150 | loss: 0.014275657944381237 | test_loss: 0.03268631175160408\n",
            "k: 160 | loss: 0.010838326066732407 | test_loss: 0.02441384270787239\n",
            "k: 170 | loss: 0.007402162533253431 | test_loss: 0.016828244552016258\n",
            "k: 180 | loss: 0.0039735035970807076 | test_loss: 0.008555757813155651\n",
            "k: 190 | loss: 0.008990190923213959 | test_loss: 0.005145949311554432\n"
          ]
        }
      ]
    },
    {
      "cell_type": "code",
      "source": [
        "model_1.state_dict()"
      ],
      "metadata": {
        "colab": {
          "base_uri": "https://localhost:8080/"
        },
        "id": "uSjjQ9i4xegL",
        "outputId": "1f4063c6-3e4c-4e73-a018-a0110044aa7a"
      },
      "execution_count": 40,
      "outputs": [
        {
          "output_type": "execute_result",
          "data": {
            "text/plain": [
              "OrderedDict([('linear_layer.weight', tensor([[0.7987]], device='cuda:0')),\n",
              "             ('linear_layer.bias', tensor([0.2095], device='cuda:0'))])"
            ]
          },
          "metadata": {},
          "execution_count": 40
        }
      ]
    },
    {
      "cell_type": "code",
      "source": [
        "model_1.eval()\n",
        "with torch.inference_mode():\n",
        "  y_preds_v1 = model_1(X_test)\n",
        "\n",
        "y_preds_v1 = np.array(y_preds_v1.cpu().numpy())\n",
        "\n",
        "plot_preds(predictions=y_preds_v1)"
      ],
      "metadata": {
        "colab": {
          "base_uri": "https://localhost:8080/",
          "height": 599
        },
        "id": "kEC9p3BPxjR8",
        "outputId": "e966f0cb-d661-4ac8-cafd-f3953e750a08"
      },
      "execution_count": 42,
      "outputs": [
        {
          "output_type": "display_data",
          "data": {
            "text/plain": [
              "<Figure size 700x700 with 1 Axes>"
            ],
            "image/png": "[encoded data removed]"
          },
          "metadata": {}
        }
      ]
    },
    {
      "cell_type": "markdown",
      "source": [
        "### 6.4 saving and loading"
      ],
      "metadata": {
        "id": "4R8jgkIdzUO0"
      }
    },
    {
      "cell_type": "code",
      "source": [
        "from pathlib import Path\n",
        "\n",
        "MODEL_PATH = Path(\"models\")\n",
        "MODEL_PATH.mkdir(parents=True, exist_ok=True)\n",
        "MODEL_SAVE_PATH = MODEL_PATH / \"01_MODEL_1.pth\"\n",
        "\n",
        "MODEL_SAVE_PATH,"
      ],
      "metadata": {
        "colab": {
          "base_uri": "https://localhost:8080/"
        },
        "id": "brlv0I6WzIlm",
        "outputId": "cc53024f-235b-4565-9e6d-33097ca46958"
      },
      "execution_count": 43,
      "outputs": [
        {
          "output_type": "execute_result",
          "data": {
            "text/plain": [
              "(PosixPath('models/01_MODEL_1.pth'),)"
            ]
          },
          "metadata": {},
          "execution_count": 43
        }
      ]
    },
    {
      "cell_type": "code",
      "source": [
        "torch.save(obj=model_1.state_dict(), f=MODEL_SAVE_PATH)"
      ],
      "metadata": {
        "id": "uK2AAQ3NzyyJ"
      },
      "execution_count": 45,
      "outputs": []
    },
    {
      "cell_type": "code",
      "source": [
        "loaded_model_1 = LinearRegressionModelV2()\n",
        "\n",
        "loaded_model_1.load_state_dict(torch.load(MODEL_SAVE_PATH))\n",
        "\n",
        "loaded_model_1.to(device)\n",
        "\n",
        "loaded_model_1.state_dict(),"
      ],
      "metadata": {
        "colab": {
          "base_uri": "https://localhost:8080/"
        },
        "id": "GVUD33Oo0DmC",
        "outputId": "e834f22e-c1ee-4504-b25d-4b1dea88c857"
      },
      "execution_count": 49,
      "outputs": [
        {
          "output_type": "execute_result",
          "data": {
            "text/plain": [
              "(OrderedDict([('linear_layer.weight', tensor([[0.7987]], device='cuda:0')),\n",
              "              ('linear_layer.bias', tensor([0.2095], device='cuda:0'))]),)"
            ]
          },
          "metadata": {},
          "execution_count": 49
        }
      ]
    },
    {
      "cell_type": "code",
      "source": [
        "loaded_model_1.eval()\n",
        "with torch.inference_mode():\n",
        "    loaded_preds = loaded_model_1(X_test)\n",
        "\n",
        "model_1.eval()\n",
        "with torch.inference_mode():\n",
        "    y_preds = loaded_model_1(X_test)\n",
        "\n",
        "y_preds == loaded_preds,"
      ],
      "metadata": {
        "colab": {
          "base_uri": "https://localhost:8080/"
        },
        "id": "Gv9-qam-0l1l",
        "outputId": "21c8ff6f-f6ea-4788-dbb8-952214c6c564"
      },
      "execution_count": 50,
      "outputs": [
        {
          "output_type": "execute_result",
          "data": {
            "text/plain": [
              "(tensor([[True],\n",
              "         [True],\n",
              "         [True],\n",
              "         [True],\n",
              "         [True],\n",
              "         [True],\n",
              "         [True],\n",
              "         [True],\n",
              "         [True],\n",
              "         [True]], device='cuda:0'),)"
            ]
          },
          "metadata": {},
          "execution_count": 50
        }
      ]
    }
  ]
}