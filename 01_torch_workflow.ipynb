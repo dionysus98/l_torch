{
  "nbformat": 4,
  "nbformat_minor": 0,
  "metadata": {
    "colab": {
      "provenance": [],
      "authorship_tag": "ABX9TyMPHf0cl+21wjDa4voCY9+k",
      "include_colab_link": true
    },
    "kernelspec": {
      "name": "python3",
      "display_name": "Python 3"
    },
    "language_info": {
      "name": "python"
    }
  },
  "cells": [
    {
      "cell_type": "markdown",
      "metadata": {
        "id": "view-in-github",
        "colab_type": "text"
      },
      "source": [
        "<a href=\"https://colab.research.google.com/github/dionysus98/l_torch/blob/main/01_torch_workflow.ipynb\" target=\"_parent\"><img src=\"https://colab.research.google.com/assets/colab-badge.svg\" alt=\"Open In Colab\"/></a>"
      ]
    },
    {
      "cell_type": "markdown",
      "source": [
        "# Torch workflow\n",
        "\n",
        "- Resources:\n",
        "  - [Pytorch Book](https://www.learnpytorch.io/)\n",
        "  - [Source code for the book](https://github.com/mrdbourke/pytorch-deep-learning)"
      ],
      "metadata": {
        "id": "VVZu-G0TxTV5"
      }
    },
    {
      "cell_type": "code",
      "execution_count": 1,
      "metadata": {
        "id": "6asioYtOwwEf"
      },
      "outputs": [],
      "source": [
        "to_cover = {\n",
        "    1: \"data (prepare and load)\",\n",
        "    2: \"build a model\",\n",
        "    3: \"fitting(traning) the modal\",\n",
        "    4: \"making predictions and evaluating the model\",\n",
        "    5: \"saving, loading the model\",\n",
        "    6: \"putting it all together\"\n",
        "    }"
      ]
    },
    {
      "cell_type": "code",
      "source": [
        "import torch\n",
        "from torch import nn ## neural networks\n",
        "import matplotlib.pyplot as plt\n",
        "\n",
        "torch.__version__"
      ],
      "metadata": {
        "colab": {
          "base_uri": "https://localhost:8080/",
          "height": 36
        },
        "id": "C_ScMk64ytGI",
        "outputId": "a7d913f6-40c9-41ef-b15e-0cf67b70baae"
      },
      "execution_count": 2,
      "outputs": [
        {
          "output_type": "execute_result",
          "data": {
            "text/plain": [
              "'2.3.0+cu121'"
            ],
            "application/vnd.google.colaboratory.intrinsic+json": {
              "type": "string"
            }
          },
          "metadata": {},
          "execution_count": 2
        }
      ]
    },
    {
      "cell_type": "markdown",
      "source": [
        "## 1. Data - Preparing and Loading"
      ],
      "metadata": {
        "id": "MMXi_tCbzUXS"
      }
    },
    {
      "cell_type": "code",
      "source": [
        "# Linear regression\n",
        "\n",
        "# make a straight line with *known* paramters\n",
        "w = 0.7 #weight\n",
        "b = 0.3 #bias\n",
        "\n",
        "# create\n",
        "start = 0\n",
        "end = 1\n",
        "step = 0.02\n",
        "X = torch.arange(start, end, step).unsqueeze(1) # input matrix `X`\n",
        "# y = Ax + b, slope formula\n",
        "y = w * X + b # output\n",
        "\n",
        "X[:10], y[:10], len(X), len(y)\n"
      ],
      "metadata": {
        "id": "0pe8zzknzNsH",
        "colab": {
          "base_uri": "https://localhost:8080/"
        },
        "outputId": "556338a4-ff4c-4af7-83a7-e069eea5e525"
      },
      "execution_count": 3,
      "outputs": [
        {
          "output_type": "execute_result",
          "data": {
            "text/plain": [
              "(tensor([[0.0000],\n",
              "         [0.0200],\n",
              "         [0.0400],\n",
              "         [0.0600],\n",
              "         [0.0800],\n",
              "         [0.1000],\n",
              "         [0.1200],\n",
              "         [0.1400],\n",
              "         [0.1600],\n",
              "         [0.1800]]),\n",
              " tensor([[0.3000],\n",
              "         [0.3140],\n",
              "         [0.3280],\n",
              "         [0.3420],\n",
              "         [0.3560],\n",
              "         [0.3700],\n",
              "         [0.3840],\n",
              "         [0.3980],\n",
              "         [0.4120],\n",
              "         [0.4260]]),\n",
              " 50,\n",
              " 50)"
            ]
          },
          "metadata": {},
          "execution_count": 3
        }
      ]
    },
    {
      "cell_type": "markdown",
      "source": [
        "### Spliting data into training and test sets\n",
        "\n",
        "- traning set\n",
        "- validation set [?]\n",
        "- test set\n",
        "\n"
      ],
      "metadata": {
        "id": "YjYVDMbRPntV"
      }
    },
    {
      "cell_type": "code",
      "source": [
        "# split the data\n",
        "train_split = int(0.8 * len(X))\n",
        "X_train, y_train = X[:train_split], y[:train_split]\n",
        "X_test, y_test = X[train_split:], y[train_split:]\n",
        "len(X_train), len(y_train), len(X_test), len(y_test),\n"
      ],
      "metadata": {
        "colab": {
          "base_uri": "https://localhost:8080/"
        },
        "id": "v8CftSTwPMYb",
        "outputId": "2f0dfb8e-be27-4b0a-fd07-77d8d435d843"
      },
      "execution_count": 4,
      "outputs": [
        {
          "output_type": "execute_result",
          "data": {
            "text/plain": [
              "(40, 40, 10, 10)"
            ]
          },
          "metadata": {},
          "execution_count": 4
        }
      ]
    },
    {
      "cell_type": "markdown",
      "source": [
        "### Visualize data"
      ],
      "metadata": {
        "id": "LGvB8BqDRXHI"
      }
    },
    {
      "cell_type": "code",
      "source": [
        "def plot_preds(train_data=X_train, train_labels=y_train,\n",
        "               test_data=X_test, test_labels=y_test,\n",
        "               predictions=None):\n",
        "  \"Plots training & test data, compares predictions\"\n",
        "  plt.figure(figsize=(7, 7))\n",
        "  # plot training data\n",
        "  plt.scatter(train_data, train_labels, c=\"b\", s=4, label=\"Training Data\")\n",
        "  # plot test data in green\n",
        "  plt.scatter(test_data, test_labels, c=\"g\", s=4, label=\"testing Data\")\n",
        "\n",
        "  if predictions is not None:\n",
        "    plt.scatter(test_data, predictions, c=\"r\", s=4, label=\"Predictions\")\n",
        "\n",
        "  plt.legend(prop={\"size\": 14})"
      ],
      "metadata": {
        "id": "2d904WjSRIik"
      },
      "execution_count": 42,
      "outputs": []
    },
    {
      "cell_type": "code",
      "source": [
        "plot_preds()"
      ],
      "metadata": {
        "colab": {
          "base_uri": "https://localhost:8080/",
          "height": 599
        },
        "id": "LSe46e9GSyoz",
        "outputId": "eed6b213-692a-48a9-f64c-2ec84c53a43b"
      },
      "execution_count": null,
      "outputs": [
        {
          "output_type": "display_data",
          "data": {
            "text/plain": [
              "<Figure size 700x700 with 1 Axes>"
            ],
            "image/png": "[encoded data removed]"
          },
          "metadata": {}
        }
      ]
    },
    {
      "cell_type": "markdown",
      "source": [
        "## 2. Build Model"
      ],
      "metadata": {
        "id": "17QdVxaNT-9h"
      }
    },
    {
      "cell_type": "code",
      "source": [
        "from torch import nn\n",
        "\n",
        "class LinearRegressionModel(nn.Module):\n",
        "  def __init__(self):\n",
        "    super().__init__()\n",
        "    self.weights = nn.Parameter(\n",
        "    torch.randn(1,\n",
        "          requires_grad=True,\n",
        "          dtype=torch.float))\n",
        "\n",
        "    self.bias = nn.Parameter(\n",
        "    torch.randn(1,\n",
        "          requires_grad=True,\n",
        "          dtype=torch.float))\n",
        "\n",
        "  def forward(self, x: torch.Tensor) -> torch.Tensor:\n",
        "    return self.weights * x + self.bias"
      ],
      "metadata": {
        "id": "gTnb1cKwTedd"
      },
      "execution_count": 6,
      "outputs": []
    },
    {
      "cell_type": "markdown",
      "source": [
        "### model building essentials\n",
        "- torch.nn\n",
        "- torch.nn.Parameter\n",
        "- torch.nn.Module\n",
        "- torch.optim\n",
        "- def forward()\n",
        "- torch.utils.data.Dataset\n",
        "- torch.utils.data.DataLoader"
      ],
      "metadata": {
        "id": "uO1xN3feY7Cb"
      }
    },
    {
      "cell_type": "code",
      "source": [
        "# create a random seed\n",
        "torch.manual_seed(42)\n",
        "\n",
        "# instantiate the model\n",
        "model_0 = LinearRegressionModel()\n",
        "\n",
        "list(model_0.parameters())"
      ],
      "metadata": {
        "colab": {
          "base_uri": "https://localhost:8080/"
        },
        "id": "pOjRrhOmYEo4",
        "outputId": "8461df75-80f6-4dec-c78e-ee836a267c1f"
      },
      "execution_count": 64,
      "outputs": [
        {
          "output_type": "execute_result",
          "data": {
            "text/plain": [
              "[Parameter containing:\n",
              " tensor([0.3367], requires_grad=True),\n",
              " Parameter containing:\n",
              " tensor([0.1288], requires_grad=True)]"
            ]
          },
          "metadata": {},
          "execution_count": 64
        }
      ]
    },
    {
      "cell_type": "code",
      "source": [
        "# named parameters\n",
        "model_0.state_dict()"
      ],
      "metadata": {
        "colab": {
          "base_uri": "https://localhost:8080/"
        },
        "id": "laa0ngI7tRpV",
        "outputId": "79d51fe4-6fe3-446d-fc3d-bcdb9289bee0"
      },
      "execution_count": 65,
      "outputs": [
        {
          "output_type": "execute_result",
          "data": {
            "text/plain": [
              "OrderedDict([('weights', tensor([0.3367])), ('bias', tensor([0.1288]))])"
            ]
          },
          "metadata": {},
          "execution_count": 65
        }
      ]
    },
    {
      "cell_type": "markdown",
      "source": [
        "### making prediction using `torch.inference_mode()`"
      ],
      "metadata": {
        "id": "b363sWZVt_hp"
      }
    },
    {
      "cell_type": "code",
      "source": [
        "# make predictions/inference with model\n",
        "with torch.inference_mode(): # removes the gradient info, since we are just doing forward pass\n",
        "  y_preds = model_0(X_test)\n",
        "\n",
        "plot_preds(predictions=y_preds)"
      ],
      "metadata": {
        "colab": {
          "base_uri": "https://localhost:8080/",
          "height": 599
        },
        "id": "wjcxOzH_t0yh",
        "outputId": "26911df4-bda0-434d-ea48-4fb97c5294af"
      },
      "execution_count": 66,
      "outputs": [
        {
          "output_type": "display_data",
          "data": {
            "text/plain": [
              "<Figure size 700x700 with 1 Axes>"
            ],
            "image/png": "[encoded data removed]"
          },
          "metadata": {}
        }
      ]
    },
    {
      "cell_type": "markdown",
      "source": [
        "## 3. Training Model\n",
        "\n",
        "Things we need for training:\n",
        "- loss function\n",
        "- optimizer\n"
      ],
      "metadata": {
        "id": "WFNvErolxCaY"
      }
    },
    {
      "cell_type": "code",
      "source": [
        "## Learning Rate\n",
        "lr = 0.01\n",
        "\n",
        "## loss function - MAE\n",
        "loss_fn = nn.L1Loss()\n",
        "\n",
        "## Optimizer - Stochastic Gradient Descent\n",
        "optimizer = torch.optim.SGD(\n",
        "    model_0.parameters(),\n",
        "    lr=lr)"
      ],
      "metadata": {
        "id": "7F3Wo1RGwR3R"
      },
      "execution_count": 67,
      "outputs": []
    },
    {
      "cell_type": "markdown",
      "source": [
        "### Building a training Loop\n",
        "0. loop through the data\n",
        "1. Forward pass\n",
        "2. calculate the loss\n",
        "3. Optimizer Zero grad\n",
        "4. Loss Backward: BackProp\n",
        "5. Optimizer step\n"
      ],
      "metadata": {
        "id": "-ehkBLOvRJ7U"
      }
    },
    {
      "cell_type": "code",
      "source": [
        "torch.manual_seed(42)\n",
        "# An epoch is one loop through the data..\n",
        "\n",
        "epochs = 10\n",
        "# 0. loop\n",
        "for epoch in range(epochs):\n",
        "  # Set the model to training mode\n",
        "  model_0.train() # sets all params that require grad to require grad\n",
        "\n",
        "  # 1. Forward Pass\n",
        "  y_pred = model_0(X_train)\n",
        "\n",
        "  # 2. calc Loss MAE\n",
        "  loss = loss_fn(y_pred, y_train)\n",
        "\n",
        "  # 3. Optim Zero Grad\n",
        "  optimizer.zero_grad()\n",
        "\n",
        "  # 4. Backward Pass\n",
        "  loss.backward()\n",
        "\n",
        "  # 5. Step the optim (perform grad descent)\n",
        "  optimizer.step()\n",
        "\n",
        "  ### Testing\n",
        "  model_0.eval() # turns off stuff not needed for testing\n",
        "\n",
        "  with torch.inference_mode(): # turns off grad tracking\n",
        "      # 1. Forward Pass\n",
        "      test_pred = model_0(X_test)\n",
        "\n",
        "      # 2. calc Loss\n",
        "      test_loss = loss_fn(test_pred, y_test)\n",
        "\n",
        "  if epoch % 10 == 0:\n",
        "    print(f\"k: {epoch} | Loss: {loss} | Test loss: {test_loss}\")\n",
        "\n",
        "    for item in model_0.state_dict().items():\n",
        "      print(item)"
      ],
      "metadata": {
        "colab": {
          "base_uri": "https://localhost:8080/"
        },
        "id": "dqYRwJxcP0VS",
        "outputId": "ffee8d4c-9120-44db-8286-0b6209818be6"
      },
      "execution_count": 83,
      "outputs": [
        {
          "output_type": "stream",
          "name": "stdout",
          "text": [
            "k: 0 | Loss: 0.008932482451200485 | Test loss: 0.005023092031478882\n",
            "('weights', tensor([0.6951]))\n",
            "('bias', tensor([0.2993]))\n"
          ]
        }
      ]
    },
    {
      "cell_type": "code",
      "source": [
        "# make predictions/inference with model\n",
        "with torch.inference_mode(): # removes the gradient info, since we are just doing forward pass\n",
        "  y_preds_new = model_0(X_test)\n",
        "\n",
        "plot_preds(predictions=y_preds_new)"
      ],
      "metadata": {
        "colab": {
          "base_uri": "https://localhost:8080/",
          "height": 599
        },
        "id": "wDxjKk1wbrSS",
        "outputId": "b9183b4f-9527-42bc-efaf-93c56c2aaf99"
      },
      "execution_count": 84,
      "outputs": [
        {
          "output_type": "display_data",
          "data": {
            "text/plain": [
              "<Figure size 700x700 with 1 Axes>"
            ],
            "image/png": "[encoded data removed]"
          },
          "metadata": {}
        }
      ]
    }
  ]
}